{
 "cells": [
  {
   "cell_type": "markdown",
   "metadata": {},
   "source": [
    "# Zadanie: korelacja\n",
    "### Dysponujemy dwoma listami z danymi z 20 losowych krajów, odpowiednio: współczynnik dzietności i średnia oczekiwana długość życia "
   ]
  },
  {
   "cell_type": "code",
   "execution_count": null,
   "metadata": {},
   "outputs": [],
   "source": [
    "fertility_rate = [1.3, 1.95, 2.466, 1.6, 2.952, 1.801, 1.34, 1.34, 1.63, 2.326, 2.436, 6.563, 1.283, 1.43, 1.988, 1.61, 1.921, 2.4, 1.495, 4.705]\n",
    "\n",
    "x = fertility_rate"
   ]
  },
  {
   "cell_type": "code",
   "execution_count": 1,
   "metadata": {},
   "outputs": [],
   "source": [
    "life_expectancy = [76.84878, 81.40732, 77.57895, 74.16341, 68.84907, 73.88595, 75.26829, 76.26098, 80.57244, 65.46259, 67.5482, 55.02451, 76.2799, 82.29024, 69.80695, 81.40112, 82.19756, 74.22683, 80.12888, 45.55095]\n",
    "\n",
    "y = life_expectancy"
   ]
  },
  {
   "cell_type": "markdown",
   "metadata": {},
   "source": [
    "## Miary położenia\n",
    "### Średnia"
   ]
  },
  {
   "cell_type": "code",
   "execution_count": 12,
   "metadata": {},
   "outputs": [
    {
     "output_type": "stream",
     "name": "stdout",
     "text": [
      "Średnia dzietności dla 20 losowych państw wynosi: 2.2268\nŚrednia oczekiwana długość życia dla 20 losowych państw wynosi: 73.237646\n"
     ]
    }
   ],
   "source": [
    "avg_x = sum(x)/len(x)\n",
    "avg_y = sum(y)/len(y)\n",
    "\n",
    "print(f'Średnia dzietności dla 20 losowych państw wynosi: {avg_x}')\n",
    "print(f'Średnia oczekiwana długość życia dla 20 losowych państw wynosi: {avg_y}')"
   ]
  },
  {
   "cell_type": "markdown",
   "metadata": {},
   "source": [
    "### Mediana"
   ]
  },
  {
   "cell_type": "code",
   "execution_count": 10,
   "metadata": {},
   "outputs": [
    {
     "output_type": "stream",
     "name": "stdout",
     "text": [
      "Mediana dzietności dla 20 losowych państw wynosi: 1.861\nMediana długość życia dla 20 losowych państw wynosi: 75.764635\n"
     ]
    }
   ],
   "source": [
    "def median_x(x):\n",
    "   sorted_x = sorted(x)\n",
    "   n_x = len(x)\n",
    "   index_x = (n_x - 1) // 2\n",
    "   if (n_x % 2):\n",
    "       return sorted_x[index_x]\n",
    "   else:\n",
    "       return (sorted_x[index_x] + sorted_x[index_x + 1])/2.0 \n",
    "\n",
    "def median_y(y):\n",
    "    sorted_y = sorted(y)\n",
    "    n_y = len(y)\n",
    "    index_y = (n_y - 1) // 2\n",
    "    if (n_y % 2):\n",
    "        return sorted_y[index_y]\n",
    "    else:\n",
    "        return (sorted_y[index_y] + sorted_y[index_y + 1])/2.0\n",
    "\n",
    "print(f'Mediana dzietności dla 20 losowych państw wynosi: {median_x(x)}')\n",
    "\n",
    "print(f'Mediana długość życia dla 20 losowych państw wynosi: {median_y(y)}')"
   ]
  },
  {
   "cell_type": "markdown",
   "metadata": {},
   "source": [
    "### Dominanta"
   ]
  },
  {
   "cell_type": "code",
   "execution_count": 30,
   "metadata": {},
   "outputs": [
    {
     "output_type": "stream",
     "name": "stdout",
     "text": [
      "Dominanta dla listy wartości współczynnika dzietności dla 20 losowych państw wynosi: [1.34]\nDominanta dla listy wartości przeciętnej oczekiwanej długości życia dla 20 losowych państw wynosi: []\n"
     ]
    }
   ],
   "source": [
    "def mode_x(x):\n",
    "    frequency={}\n",
    "    for i in x:\n",
    "        frequency.setdefault(i, 0)\n",
    "        frequency[i]+=1\n",
    "    highest_frequency=max(frequency.values())\n",
    "    highest_frequency_list = []\n",
    "    if highest_frequency > 1:\n",
    "        for key, value in frequency.items():\n",
    "            if value ==highest_frequency:\n",
    "                highest_frequency_list.append(key)\n",
    "    return highest_frequency_list\n",
    "\n",
    "\n",
    "def mode_y(y):\n",
    "    frequency={}\n",
    "    for i in y:\n",
    "        frequency.setdefault(i, 0)\n",
    "        frequency[i]+=1\n",
    "    highest_frequency=max(frequency.values())\n",
    "    highest_frequency_list = []\n",
    "    if highest_frequency > 1:\n",
    "        for key, value in frequency.items():\n",
    "            if value ==highest_frequency:\n",
    "                highest_frequency_list.append(key)\n",
    "    return highest_frequency_list\n",
    "\n",
    "print(f'Dominanta dla listy wartości współczynnika dzietności dla 20 losowych państw wynosi: {mode_x(x)}')\n",
    "\n",
    "print(f'Dominanta dla listy wartości przeciętnej oczekiwanej długości życia dla 20 losowych państw wynosi: {mode_y(y)}')"
   ]
  },
  {
   "cell_type": "markdown",
   "metadata": {},
   "source": [
    "## Miary rozproszenia\n",
    "### Wariancja"
   ]
  },
  {
   "cell_type": "code",
   "execution_count": 32,
   "metadata": {},
   "outputs": [
    {
     "output_type": "stream",
     "name": "stdout",
     "text": [
      "Wariancja dla listy wartości współczynnika dzietności dla 20 losowych państw wynosi: 1.66536\nWariancja dla listy wartości przeciętnej oczekiwanej długości życia dla 20 losowych państw wynosi: 88.19411\n"
     ]
    }
   ],
   "source": [
    "variance_x = round((sum((i-avg_x)**2 for i in x))/(len(x)-1), 5)\n",
    "print(f'Wariancja dla listy wartości współczynnika dzietności dla 20 losowych państw wynosi: {variance_x}')\n",
    "\n",
    "variance_y = round((sum((i-avg_y)**2 for i in y))/(len(y)-1), 5)\n",
    "print(f'Wariancja dla listy wartości przeciętnej oczekiwanej długości życia dla 20 losowych państw wynosi: {variance_y}')"
   ]
  },
  {
   "cell_type": "markdown",
   "metadata": {},
   "source": [
    "### Odchylenie standardowe"
   ]
  },
  {
   "cell_type": "code",
   "execution_count": 34,
   "metadata": {},
   "outputs": [
    {
     "output_type": "stream",
     "name": "stdout",
     "text": [
      "Odchylenie standardowe dla listy wartości współczynnika dzietności dla 20 losowych państw wynosi: 1.29049\nOdchylenie standardowe dla listy wartości przeciętnej oczekiwanej długości życia dla 20 losowych państw wynosi: 9.39117\n"
     ]
    }
   ],
   "source": [
    "import math\n",
    "\n",
    "standard_deviation_x = round(math.sqrt(variance_x), 5)\n",
    "print(f'Odchylenie standardowe dla listy wartości współczynnika dzietności dla 20 losowych państw wynosi: {standard_deviation_x}')\n",
    "\n",
    "standard_deviation_y = round(math.sqrt(variance_y), 5)\n",
    "print(f'Odchylenie standardowe dla listy wartości przeciętnej oczekiwanej długości życia dla 20 losowych państw wynosi: {standard_deviation_y}')"
   ]
  },
  {
   "cell_type": "markdown",
   "metadata": {},
   "source": [
    "## Kowariancja i korelacja pomiędzy współczynnikiem dzietności a średnią oczekiwaną długością życia"
   ]
  },
  {
   "cell_type": "code",
   "execution_count": 37,
   "metadata": {},
   "outputs": [
    {
     "output_type": "stream",
     "name": "stdout",
     "text": [
      "Kowariancja pomiędzy danymi x i y wynosi: -9.9437\nWspołczynnik korelacji pomiędzy współczynnikiem dzietności a średnią oczekiwaną długością życia dla 20 losowych państw wynosi: -0.82049\n"
     ]
    }
   ],
   "source": [
    "list_for_covariance = []\n",
    "for i in range(0, len(x)):\n",
    "    n = (x[i]-avg_x)*(y[i]-avg_y)\n",
    "    list_for_covariance.append(n)\n",
    "#print(list_for_covariance)\n",
    "\n",
    "covariance = round((sum(list_for_covariance))/(len(x)-1), 5)\n",
    "print(f'Kowariancja pomiędzy danymi x i y wynosi: {covariance}')\n",
    "\n",
    "#Korelacja\n",
    "\n",
    "standard_deviation_x = math.sqrt(variance_x)\n",
    "standard_deviation_y = math.sqrt(variance_y)\n",
    "\n",
    "correlation = round(covariance/(standard_deviation_x*standard_deviation_y), 5)\n",
    "print(f'Wspołczynnik korelacji pomiędzy współczynnikiem dzietności a średnią oczekiwaną długością życia dla 20 losowych państw wynosi: {correlation}')\n"
   ]
  },
  {
   "cell_type": "markdown",
   "metadata": {},
   "source": [
    "### Interpretacja wyniku dla korelacji pomiędzy współczynnikiem dzietności a średnią oczekiwaną długością życia\n",
    "Otrzymany wynik jest w przedziale pomiędzy 0.7 a 0.9, co oznacza, że występuje bardzo wysoka korelacja. Natomiast znak ujemny dla wartości korelacji oznacza, że wraz ze spadkiem dzietności rośnie średnia oczekiwanej długości życia i na odwrót: wraz ze wzrostem dzietności maleje średnia oczekiwanej długości życia."
   ]
  },
  {
   "cell_type": "markdown",
   "metadata": {},
   "source": [
    "## Średnia oczekiwana długość życia dla całej populacji\n",
    "Oszacowanie średniej oczekiwanej długości życia dla całej populacji przy poziomie ufności 95% oraz przyjmując, że odchylenie standardowe populacji wynosi 9,09."
   ]
  },
  {
   "cell_type": "code",
   "execution_count": 39,
   "metadata": {},
   "outputs": [
    {
     "output_type": "stream",
     "name": "stdout",
     "text": [
      "[69.25378, 77.22151]\nOtrzymany wynik oznacza, że średnia oczekiwana długość życia dla całej populacji mieści się w przedziale między 69 lat i około 3 miesiące a 77 lat i około 3 miesiące\n"
     ]
    }
   ],
   "source": [
    "import math\n",
    "\n",
    "#jeśli przedział ufności: 95%\n",
    "#to dla 1-alfa = 0.95 \n",
    "#wartość ze znormalizowanego rozkładu normalnego odpowiadająca przyjętemu poziomowi istotności wynosi:\n",
    "u_alfa = 1.96\n",
    "\n",
    "#przyjęte odchylenie standardowe populacji wynosi:\n",
    "sigma = 9.09\n",
    "\n",
    "confidence_interval = [round(avg_y -(u_alfa*(sigma/math.sqrt(len(y)))), 5), round(avg_y +(u_alfa*(sigma/math.sqrt(len(y)))), 5)]\n",
    "print(confidence_interval)\n",
    "print(\"Otrzymany wynik oznacza, że średnia oczekiwana długość życia dla całej populacji mieści się w przedziale między 69 lat i około 3 miesiące a 77 lat i około 3 miesiące\")"
   ]
  },
  {
   "cell_type": "code",
   "execution_count": null,
   "metadata": {},
   "outputs": [],
   "source": []
  }
 ],
 "metadata": {
  "kernelspec": {
   "display_name": "Python 3",
   "language": "python",
   "name": "python3"
  },
  "language_info": {
   "codemirror_mode": {
    "name": "ipython",
    "version": 3
   },
   "file_extension": ".py",
   "mimetype": "text/x-python",
   "name": "python",
   "nbconvert_exporter": "python",
   "pygments_lexer": "ipython3",
   "version": "3.8.3-final"
  }
 },
 "nbformat": 4,
 "nbformat_minor": 4
}